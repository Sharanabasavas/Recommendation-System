# Sample code for data exploration
import pandas as pd
import matplotlib.pyplot as plt

# Load data
data = pd.read_csv('../data/user_item_data.csv')

# Basic data insights
print(data.head())

# Plot distribution of ratings
plt.hist(data['rating'], bins=10)
plt.title('Distribution of Ratings')
plt.xlabel('Rating')
plt.ylabel('Frequency')
plt.show()
